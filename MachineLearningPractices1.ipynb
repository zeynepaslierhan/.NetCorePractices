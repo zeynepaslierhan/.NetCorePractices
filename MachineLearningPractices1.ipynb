{
  "nbformat": 4,
  "nbformat_minor": 0,
  "metadata": {
    "colab": {
      "provenance": [],
      "collapsed_sections": [],
      "authorship_tag": "ABX9TyPBcpZe8lMwGp2/DYRkWrVC"
    },
    "kernelspec": {
      "name": "python3",
      "display_name": "Python 3"
    },
    "language_info": {
      "name": "python"
    },
    "accelerator": "GPU"
  },
  "cells": [
    {
      "cell_type": "markdown",
      "source": [
        "## Colab İzin İşlemleri ve Dosya işlemlerine giriş"
      ],
      "metadata": {
        "id": "a2l_eTBZ2G0w"
      }
    },
    {
      "cell_type": "code",
      "source": [
        "from google.colab import drive\n",
        "drive.mount('/content/drive')"
      ],
      "metadata": {
        "id": "HExykaI12LnV",
        "colab": {
          "base_uri": "https://localhost:8080/"
        },
        "outputId": "086dfcb2-2b7b-4b9a-c951-c52797143ddd"
      },
      "execution_count": 1,
      "outputs": [
        {
          "output_type": "stream",
          "name": "stdout",
          "text": [
            "Mounted at /content/drive\n"
          ]
        }
      ]
    },
    {
      "cell_type": "markdown",
      "source": [
        "Drive içerisindeki dosyaları görüntülemek için:"
      ],
      "metadata": {
        "id": "Wd5ezsgA31uC"
      }
    },
    {
      "cell_type": "code",
      "source": [
        "!ls '/content/drive/MyDrive/Colab Notebooks'"
      ],
      "metadata": {
        "id": "daTs5DRP3R49",
        "colab": {
          "base_uri": "https://localhost:8080/"
        },
        "outputId": "a254bd61-e540-4424-a575-165b2613c5ec"
      },
      "execution_count": 2,
      "outputs": [
        {
          "output_type": "stream",
          "name": "stdout",
          "text": [
            "MachineLearningPractices1.ipynb  odev_tenis.csv\n"
          ]
        }
      ]
    },
    {
      "cell_type": "markdown",
      "source": [
        "Drive içerisinde istenilen dosyanın içine verileri indirmek için:"
      ],
      "metadata": {
        "id": "ec8Jk9Ql473w"
      }
    },
    {
      "cell_type": "code",
      "source": [
        "!wget https://bilkav.com/odev_tenis.csv -P '/content/drive/MyDrive/Colab Notebooks'"
      ],
      "metadata": {
        "id": "a67cz8oE4ilg",
        "colab": {
          "base_uri": "https://localhost:8080/"
        },
        "outputId": "65fbc059-2396-47e8-85da-e3107e60be1e"
      },
      "execution_count": 3,
      "outputs": [
        {
          "output_type": "stream",
          "name": "stdout",
          "text": [
            "--2022-10-02 21:45:31--  https://bilkav.com/odev_tenis.csv\n",
            "Resolving bilkav.com (bilkav.com)... 185.224.137.104, 2a02:4780:8:242:0:2e45:94c0:5\n",
            "Connecting to bilkav.com (bilkav.com)|185.224.137.104|:443... connected.\n",
            "HTTP request sent, awaiting response... 200 OK\n",
            "Length: 364 [text/plain]\n",
            "Saving to: ‘/content/drive/MyDrive/Colab Notebooks/odev_tenis.csv.1’\n",
            "\n",
            "odev_tenis.csv.1    100%[===================>]     364  --.-KB/s    in 0s      \n",
            "\n",
            "2022-10-02 21:45:32 (45.3 MB/s) - ‘/content/drive/MyDrive/Colab Notebooks/odev_tenis.csv.1’ saved [364/364]\n",
            "\n"
          ]
        }
      ]
    },
    {
      "cell_type": "markdown",
      "source": [
        "## BTK Akademi, Şadi Evren Şeker ödevi-1"
      ],
      "metadata": {
        "id": "OOvm7KmTkelR"
      }
    },
    {
      "cell_type": "markdown",
      "source": [
        "1. Aşama: Kategorik veriler Numeric hale getirildi."
      ],
      "metadata": {
        "id": "S8mTIajhsxwL"
      }
    },
    {
      "cell_type": "code",
      "source": [
        "import numpy as np\n",
        "import matplotlib.pyplot as plt\n",
        "import pandas as pd\n",
        "\n",
        "veri= pd.read_csv('/content/drive/MyDrive/Colab Notebooks/odev_tenis.csv')\n",
        "print(veri)"
      ],
      "metadata": {
        "colab": {
          "base_uri": "https://localhost:8080/"
        },
        "id": "ATkrs5g-krYg",
        "outputId": "8421b960-4604-4b05-fd09-ce43a9be2f72"
      },
      "execution_count": 4,
      "outputs": [
        {
          "output_type": "stream",
          "name": "stdout",
          "text": [
            "     outlook  temperature  humidity  windy play\n",
            "0      sunny           85        85  False   no\n",
            "1      sunny           80        90   True   no\n",
            "2   overcast           83        86  False  yes\n",
            "3      rainy           70        96  False  yes\n",
            "4      rainy           68        80  False  yes\n",
            "5      rainy           65        70   True   no\n",
            "6   overcast           64        65   True  yes\n",
            "7      sunny           72        95  False   no\n",
            "8      sunny           69        70  False  yes\n",
            "9      rainy           75        80  False  yes\n",
            "10     sunny           75        70   True  yes\n",
            "11  overcast           72        90   True  yes\n",
            "12  overcast           81        75  False  yes\n",
            "13     rainy           71        91   True   no\n"
          ]
        }
      ]
    },
    {
      "cell_type": "code",
      "source": [
        "from sklearn import preprocessing\n",
        "veri2 = veri.apply(preprocessing.LabelEncoder().fit_transform)\n",
        "print(veri2)\n",
        "\n",
        "ilkSütun = veri2.iloc[:,:1]\n",
        "#print(ilkSütun)\n",
        "\n",
        "sonİkiSütun=veri2.iloc[:,-2:]\n",
        "#print(sonİkiSütun)\n",
        "\n",
        "from sklearn import preprocessing\n",
        "ohe = preprocessing.OneHotEncoder()\n",
        "ilkSütun = ohe.fit_transform(ilkSütun).toarray()\n",
        "#print(c)\n",
        "\n",
        "havaDurumu = pd.DataFrame(data=ilkSütun, index=range(14),columns=['overcast','rainy','sunny'])\n",
        "#print(havaDurumu)\n",
        "\n",
        "UcSütunDüzenlendi= pd.concat([havaDurumu,veri.iloc[:,1:3]],axis=1)\n",
        "#print(UcSütunDüzenlendi)\n",
        "\n",
        "sonveri = pd.concat([sonİkiSütun,UcSütunDüzenlendi],axis=1)\n",
        "print(sonveri)"
      ],
      "metadata": {
        "colab": {
          "base_uri": "https://localhost:8080/"
        },
        "id": "ZEi_WtA2ohFy",
        "outputId": "bc90bf63-0fab-4f4f-dfdf-7dbfc75e32ae"
      },
      "execution_count": 5,
      "outputs": [
        {
          "output_type": "stream",
          "name": "stdout",
          "text": [
            "    outlook  temperature  humidity  windy  play\n",
            "0         2           11         4      0     0\n",
            "1         2            8         6      1     0\n",
            "2         0           10         5      0     1\n",
            "3         1            4         9      0     1\n",
            "4         1            2         3      0     1\n",
            "5         1            1         1      1     0\n",
            "6         0            0         0      1     1\n",
            "7         2            6         8      0     0\n",
            "8         2            3         1      0     1\n",
            "9         1            7         3      0     1\n",
            "10        2            7         1      1     1\n",
            "11        0            6         6      1     1\n",
            "12        0            9         2      0     1\n",
            "13        1            5         7      1     0\n",
            "    windy  play  overcast  rainy  sunny  temperature  humidity\n",
            "0       0     0       0.0    0.0    1.0           85        85\n",
            "1       1     0       0.0    0.0    1.0           80        90\n",
            "2       0     1       1.0    0.0    0.0           83        86\n",
            "3       0     1       0.0    1.0    0.0           70        96\n",
            "4       0     1       0.0    1.0    0.0           68        80\n",
            "5       1     0       0.0    1.0    0.0           65        70\n",
            "6       1     1       1.0    0.0    0.0           64        65\n",
            "7       0     0       0.0    0.0    1.0           72        95\n",
            "8       0     1       0.0    0.0    1.0           69        70\n",
            "9       0     1       0.0    1.0    0.0           75        80\n",
            "10      1     1       0.0    0.0    1.0           75        70\n",
            "11      1     1       1.0    0.0    0.0           72        90\n",
            "12      0     1       1.0    0.0    0.0           81        75\n",
            "13      1     0       0.0    1.0    0.0           71        91\n"
          ]
        }
      ]
    },
    {
      "cell_type": "markdown",
      "source": [
        "2. Verilerin egitim ve test için bölünmesi\n"
      ],
      "metadata": {
        "id": "5byknqH0s6cD"
      }
    },
    {
      "cell_type": "code",
      "source": [
        "from sklearn.model_selection import train_test_split\n",
        "\n",
        "x_train, x_test, y_train, y_test = train_test_split(sonveri.iloc[:,:-1],sonveri.iloc[:,-1:],test_size=0.33,random_state=0)\n",
        "\n",
        "#print(y_train)\n",
        "\n",
        "from sklearn.linear_model import LinearRegression\n",
        "regressor = LinearRegression()\n",
        "regressor.fit(x_train,y_train)\n",
        "\n",
        "y_pred = regressor.predict(x_test)\n",
        "print(y_pred)\n",
        "print(\"--------\")\n",
        "print(y_test)"
      ],
      "metadata": {
        "colab": {
          "base_uri": "https://localhost:8080/"
        },
        "id": "AsndECz7tDV2",
        "outputId": "a73c7e9c-3d79-48ad-f7d6-61596ed18c25"
      },
      "execution_count": 6,
      "outputs": [
        {
          "output_type": "stream",
          "name": "stdout",
          "text": [
            "[[84.45365573]\n",
            " [63.93839954]\n",
            " [85.76050662]\n",
            " [64.21013241]\n",
            " [75.06793322]]\n",
            "--------\n",
            "    humidity\n",
            "8         70\n",
            "6         65\n",
            "4         80\n",
            "11        90\n",
            "2         86\n"
          ]
        }
      ]
    },
    {
      "cell_type": "code",
      "source": [
        "import statsmodels.api as sm\n",
        "X=np.append(arr=np.ones((14,1)).astype(int),values=sonveri.iloc[:,:-1],axis=1)\n",
        "\n",
        "X_l=sonveri.iloc[:,[0,1,2,3,4,5]].values\n",
        "X_l=np.array(X_l,dtype=float)\n",
        "\n",
        "model=sm.OLS(sonveri.iloc[:,-1:],X_l).fit()\n",
        "print(model.summary())"
      ],
      "metadata": {
        "id": "QGIkFz2LvUmo",
        "colab": {
          "base_uri": "https://localhost:8080/"
        },
        "outputId": "e7861b1e-ac10-4f40-8904-9a1603680cf8"
      },
      "execution_count": 7,
      "outputs": [
        {
          "output_type": "stream",
          "name": "stdout",
          "text": [
            "                            OLS Regression Results                            \n",
            "==============================================================================\n",
            "Dep. Variable:               humidity   R-squared:                       0.294\n",
            "Model:                            OLS   Adj. R-squared:                 -0.148\n",
            "Method:                 Least Squares   F-statistic:                    0.6653\n",
            "Date:                Sun, 02 Oct 2022   Prob (F-statistic):              0.661\n",
            "Time:                        21:45:34   Log-Likelihood:                -49.542\n",
            "No. Observations:                  14   AIC:                             111.1\n",
            "Df Residuals:                       8   BIC:                             114.9\n",
            "Df Model:                           5                                         \n",
            "Covariance Type:            nonrobust                                         \n",
            "==============================================================================\n",
            "                 coef    std err          t      P>|t|      [0.025      0.975]\n",
            "------------------------------------------------------------------------------\n",
            "x1            -4.0286      7.229     -0.557      0.593     -20.698      12.641\n",
            "x2            -8.2778      8.029     -1.031      0.333     -26.793      10.237\n",
            "x3            52.3891     50.214      1.043      0.327     -63.404     168.183\n",
            "x4            55.6337     45.233      1.230      0.254     -48.673     159.940\n",
            "x5            49.4291     48.337      1.023      0.336     -62.035     160.893\n",
            "x6             0.4920      0.597      0.825      0.433      -0.884       1.868\n",
            "==============================================================================\n",
            "Omnibus:                        0.935   Durbin-Watson:                   2.416\n",
            "Prob(Omnibus):                  0.627   Jarque-Bera (JB):                0.823\n",
            "Skew:                           0.389   Prob(JB):                        0.663\n",
            "Kurtosis:                       2.103   Cond. No.                     2.08e+03\n",
            "==============================================================================\n",
            "\n",
            "Notes:\n",
            "[1] Standard Errors assume that the covariance matrix of the errors is correctly specified.\n",
            "[2] The condition number is large, 2.08e+03. This might indicate that there are\n",
            "strong multicollinearity or other numerical problems.\n"
          ]
        },
        {
          "output_type": "stream",
          "name": "stderr",
          "text": [
            "/usr/local/lib/python3.7/dist-packages/scipy/stats/stats.py:1542: UserWarning: kurtosistest only valid for n>=20 ... continuing anyway, n=14\n",
            "  \"anyway, n=%i\" % int(n))\n"
          ]
        }
      ]
    },
    {
      "cell_type": "code",
      "source": [
        "x_train = x_train.iloc[:,1:]\n",
        "x_test =x_test.iloc[:,1:]\n",
        "\n",
        "regressor.fit(x_train,y_train)\n",
        "\n",
        "y_pred = regressor.predict(x_test)\n",
        "\n",
        "print(y_pred)"
      ],
      "metadata": {
        "colab": {
          "base_uri": "https://localhost:8080/"
        },
        "id": "RNKqbpkOxCd-",
        "outputId": "ccb5d56d-d121-4de3-ee93-8a001bdcd3b4"
      },
      "execution_count": 9,
      "outputs": [
        {
          "output_type": "stream",
          "name": "stdout",
          "text": [
            "[[81.86890756]\n",
            " [69.08571429]\n",
            " [83.46722689]\n",
            " [71.86890756]\n",
            " [75.69579832]]\n"
          ]
        }
      ]
    }
  ]
}